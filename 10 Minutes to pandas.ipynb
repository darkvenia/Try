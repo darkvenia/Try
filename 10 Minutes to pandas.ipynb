{
 "cells": [
  {
   "cell_type": "code",
   "execution_count": 2,
   "metadata": {
    "collapsed": true
   },
   "outputs": [],
   "source": [
    "import pandas as pd\n",
    "import numpy as np\n",
    "import matplotlib.pyplot as plt"
   ]
  },
  {
   "cell_type": "code",
   "execution_count": 4,
   "metadata": {
    "collapsed": false
   },
   "outputs": [
    {
     "data": {
      "text/plain": [
       "0    1.0\n",
       "1    3.0\n",
       "2    5.0\n",
       "3    NaN\n",
       "4    6.0\n",
       "5    8.0\n",
       "dtype: float64"
      ]
     },
     "execution_count": 4,
     "metadata": {},
     "output_type": "execute_result"
    }
   ],
   "source": [
    "#### OBJECT CREATION\n",
    "\n",
    "# Series\n",
    "s = pd.Series([1,3,5,np.nan,6,8])\n",
    "s"
   ]
  },
  {
   "cell_type": "code",
   "execution_count": 5,
   "metadata": {
    "collapsed": false
   },
   "outputs": [
    {
     "data": {
      "text/plain": [
       "DatetimeIndex(['2013-01-01', '2013-01-02', '2013-01-03', '2013-01-04',\n",
       "               '2013-01-05', '2013-01-06'],\n",
       "              dtype='datetime64[ns]', freq='D')"
      ]
     },
     "execution_count": 5,
     "metadata": {},
     "output_type": "execute_result"
    }
   ],
   "source": [
    "# Datetime\n",
    "dates = pd.date_range('20130101', periods = 6)\n",
    "dates"
   ]
  },
  {
   "cell_type": "code",
   "execution_count": 6,
   "metadata": {
    "collapsed": false
   },
   "outputs": [
    {
     "data": {
      "text/html": [
       "<div>\n",
       "<table border=\"1\" class=\"dataframe\">\n",
       "  <thead>\n",
       "    <tr style=\"text-align: right;\">\n",
       "      <th></th>\n",
       "      <th>A</th>\n",
       "      <th>B</th>\n",
       "      <th>C</th>\n",
       "      <th>D</th>\n",
       "    </tr>\n",
       "  </thead>\n",
       "  <tbody>\n",
       "    <tr>\n",
       "      <th>2013-01-01</th>\n",
       "      <td>1.577843</td>\n",
       "      <td>-0.979979</td>\n",
       "      <td>0.677107</td>\n",
       "      <td>0.180424</td>\n",
       "    </tr>\n",
       "    <tr>\n",
       "      <th>2013-01-02</th>\n",
       "      <td>1.662359</td>\n",
       "      <td>0.234292</td>\n",
       "      <td>0.911377</td>\n",
       "      <td>0.519584</td>\n",
       "    </tr>\n",
       "    <tr>\n",
       "      <th>2013-01-03</th>\n",
       "      <td>1.563233</td>\n",
       "      <td>-0.767242</td>\n",
       "      <td>-0.185157</td>\n",
       "      <td>0.426240</td>\n",
       "    </tr>\n",
       "    <tr>\n",
       "      <th>2013-01-04</th>\n",
       "      <td>-0.267713</td>\n",
       "      <td>-0.474738</td>\n",
       "      <td>2.025374</td>\n",
       "      <td>-0.703139</td>\n",
       "    </tr>\n",
       "    <tr>\n",
       "      <th>2013-01-05</th>\n",
       "      <td>0.199391</td>\n",
       "      <td>1.516424</td>\n",
       "      <td>-0.451847</td>\n",
       "      <td>-0.707377</td>\n",
       "    </tr>\n",
       "    <tr>\n",
       "      <th>2013-01-06</th>\n",
       "      <td>1.078173</td>\n",
       "      <td>0.366903</td>\n",
       "      <td>-1.256921</td>\n",
       "      <td>-0.172117</td>\n",
       "    </tr>\n",
       "  </tbody>\n",
       "</table>\n",
       "</div>"
      ],
      "text/plain": [
       "                   A         B         C         D\n",
       "2013-01-01  1.577843 -0.979979  0.677107  0.180424\n",
       "2013-01-02  1.662359  0.234292  0.911377  0.519584\n",
       "2013-01-03  1.563233 -0.767242 -0.185157  0.426240\n",
       "2013-01-04 -0.267713 -0.474738  2.025374 -0.703139\n",
       "2013-01-05  0.199391  1.516424 -0.451847 -0.707377\n",
       "2013-01-06  1.078173  0.366903 -1.256921 -0.172117"
      ]
     },
     "execution_count": 6,
     "metadata": {},
     "output_type": "execute_result"
    }
   ],
   "source": [
    "# DataFrame\n",
    "# np.random.randn - Return a sample (or samples) from the “standard normal” distribution\n",
    "df = pd.DataFrame(np.random.randn(6,4), index = dates, columns = list ('ABCD'))\n",
    "df"
   ]
  },
  {
   "cell_type": "code",
   "execution_count": 8,
   "metadata": {
    "collapsed": false
   },
   "outputs": [
    {
     "data": {
      "text/html": [
       "<div>\n",
       "<table border=\"1\" class=\"dataframe\">\n",
       "  <thead>\n",
       "    <tr style=\"text-align: right;\">\n",
       "      <th></th>\n",
       "      <th>A</th>\n",
       "      <th>B</th>\n",
       "      <th>C</th>\n",
       "      <th>D</th>\n",
       "      <th>E</th>\n",
       "      <th>F</th>\n",
       "    </tr>\n",
       "  </thead>\n",
       "  <tbody>\n",
       "    <tr>\n",
       "      <th>0</th>\n",
       "      <td>1.0</td>\n",
       "      <td>2013-01-02</td>\n",
       "      <td>1.0</td>\n",
       "      <td>3</td>\n",
       "      <td>test</td>\n",
       "      <td>foo</td>\n",
       "    </tr>\n",
       "    <tr>\n",
       "      <th>1</th>\n",
       "      <td>1.0</td>\n",
       "      <td>2013-01-02</td>\n",
       "      <td>1.0</td>\n",
       "      <td>3</td>\n",
       "      <td>train</td>\n",
       "      <td>foo</td>\n",
       "    </tr>\n",
       "    <tr>\n",
       "      <th>2</th>\n",
       "      <td>1.0</td>\n",
       "      <td>2013-01-02</td>\n",
       "      <td>1.0</td>\n",
       "      <td>3</td>\n",
       "      <td>test</td>\n",
       "      <td>foo</td>\n",
       "    </tr>\n",
       "    <tr>\n",
       "      <th>3</th>\n",
       "      <td>1.0</td>\n",
       "      <td>2013-01-02</td>\n",
       "      <td>1.0</td>\n",
       "      <td>3</td>\n",
       "      <td>train</td>\n",
       "      <td>foo</td>\n",
       "    </tr>\n",
       "  </tbody>\n",
       "</table>\n",
       "</div>"
      ],
      "text/plain": [
       "     A          B    C  D      E    F\n",
       "0  1.0 2013-01-02  1.0  3   test  foo\n",
       "1  1.0 2013-01-02  1.0  3  train  foo\n",
       "2  1.0 2013-01-02  1.0  3   test  foo\n",
       "3  1.0 2013-01-02  1.0  3  train  foo"
      ]
     },
     "execution_count": 8,
     "metadata": {},
     "output_type": "execute_result"
    }
   ],
   "source": [
    "df2 = pd.DataFrame({'A' : 1., \n",
    "                    'B' : pd.Timestamp('20130102'), \n",
    "                    'C' : pd.Series(1, index = list(range(4)), dtype = 'float32'),\n",
    "                    'D' : np.array([3] *4, dtype = 'int32'),\n",
    "                   'E' : pd. Categorical([\"test\", \"train\", \"test\", \"train\"]),\n",
    "                   'F' : 'foo'})\n",
    "df2"
   ]
  },
  {
   "cell_type": "code",
   "execution_count": 9,
   "metadata": {
    "collapsed": false
   },
   "outputs": [
    {
     "data": {
      "text/plain": [
       "A           float64\n",
       "B    datetime64[ns]\n",
       "C           float32\n",
       "D             int32\n",
       "E          category\n",
       "F            object\n",
       "dtype: object"
      ]
     },
     "execution_count": 9,
     "metadata": {},
     "output_type": "execute_result"
    }
   ],
   "source": [
    "df2.dtypes"
   ]
  },
  {
   "cell_type": "code",
   "execution_count": 12,
   "metadata": {
    "collapsed": false
   },
   "outputs": [
    {
     "ename": "SyntaxError",
     "evalue": "invalid syntax (<ipython-input-12-07fdab42a885>, line 1)",
     "output_type": "error",
     "traceback": [
      "\u001b[0;36m  File \u001b[0;32m\"<ipython-input-12-07fdab42a885>\"\u001b[0;36m, line \u001b[0;32m1\u001b[0m\n\u001b[0;31m    df2. # +<TAB>\u001b[0m\n\u001b[0m                 ^\u001b[0m\n\u001b[0;31mSyntaxError\u001b[0m\u001b[0;31m:\u001b[0m invalid syntax\n"
     ]
    }
   ],
   "source": [
    "df2. # +<TAB>"
   ]
  },
  {
   "cell_type": "code",
   "execution_count": 6,
   "metadata": {
    "collapsed": false
   },
   "outputs": [
    {
     "data": {
      "text/html": [
       "<div>\n",
       "<table border=\"1\" class=\"dataframe\">\n",
       "  <thead>\n",
       "    <tr style=\"text-align: right;\">\n",
       "      <th></th>\n",
       "      <th>A</th>\n",
       "      <th>B</th>\n",
       "      <th>C</th>\n",
       "      <th>D</th>\n",
       "    </tr>\n",
       "  </thead>\n",
       "  <tbody>\n",
       "    <tr>\n",
       "      <th>2013-01-01</th>\n",
       "      <td>-0.398020</td>\n",
       "      <td>-0.090901</td>\n",
       "      <td>-0.951057</td>\n",
       "      <td>-0.091082</td>\n",
       "    </tr>\n",
       "    <tr>\n",
       "      <th>2013-01-02</th>\n",
       "      <td>-0.276463</td>\n",
       "      <td>1.050258</td>\n",
       "      <td>-0.674109</td>\n",
       "      <td>0.587897</td>\n",
       "    </tr>\n",
       "    <tr>\n",
       "      <th>2013-01-03</th>\n",
       "      <td>-0.953643</td>\n",
       "      <td>0.791413</td>\n",
       "      <td>-1.340126</td>\n",
       "      <td>0.319807</td>\n",
       "    </tr>\n",
       "    <tr>\n",
       "      <th>2013-01-04</th>\n",
       "      <td>-2.797240</td>\n",
       "      <td>-0.781367</td>\n",
       "      <td>-0.051677</td>\n",
       "      <td>1.116477</td>\n",
       "    </tr>\n",
       "    <tr>\n",
       "      <th>2013-01-05</th>\n",
       "      <td>-0.107137</td>\n",
       "      <td>-2.092128</td>\n",
       "      <td>0.180060</td>\n",
       "      <td>0.183549</td>\n",
       "    </tr>\n",
       "  </tbody>\n",
       "</table>\n",
       "</div>"
      ],
      "text/plain": [
       "                   A         B         C         D\n",
       "2013-01-01 -0.398020 -0.090901 -0.951057 -0.091082\n",
       "2013-01-02 -0.276463  1.050258 -0.674109  0.587897\n",
       "2013-01-03 -0.953643  0.791413 -1.340126  0.319807\n",
       "2013-01-04 -2.797240 -0.781367 -0.051677  1.116477\n",
       "2013-01-05 -0.107137 -2.092128  0.180060  0.183549"
      ]
     },
     "execution_count": 6,
     "metadata": {},
     "output_type": "execute_result"
    }
   ],
   "source": [
    "##### VIEWING DATA\n",
    "import pandas as pd\n",
    "import numpy as np\n",
    "import matplotlib.pyplot as plt\n",
    "dates = pd.date_range('20130101', periods = 6)\n",
    "df = pd.DataFrame(np.random.randn(6,4), index = dates, columns = list ('ABCD'))\n",
    "\n",
    "df.head()\n"
   ]
  },
  {
   "cell_type": "code",
   "execution_count": 7,
   "metadata": {
    "collapsed": false
   },
   "outputs": [
    {
     "data": {
      "text/html": [
       "<div>\n",
       "<table border=\"1\" class=\"dataframe\">\n",
       "  <thead>\n",
       "    <tr style=\"text-align: right;\">\n",
       "      <th></th>\n",
       "      <th>A</th>\n",
       "      <th>B</th>\n",
       "      <th>C</th>\n",
       "      <th>D</th>\n",
       "    </tr>\n",
       "  </thead>\n",
       "  <tbody>\n",
       "    <tr>\n",
       "      <th>2013-01-04</th>\n",
       "      <td>-2.797240</td>\n",
       "      <td>-0.781367</td>\n",
       "      <td>-0.051677</td>\n",
       "      <td>1.116477</td>\n",
       "    </tr>\n",
       "    <tr>\n",
       "      <th>2013-01-05</th>\n",
       "      <td>-0.107137</td>\n",
       "      <td>-2.092128</td>\n",
       "      <td>0.180060</td>\n",
       "      <td>0.183549</td>\n",
       "    </tr>\n",
       "    <tr>\n",
       "      <th>2013-01-06</th>\n",
       "      <td>-1.203128</td>\n",
       "      <td>-0.334911</td>\n",
       "      <td>-0.139938</td>\n",
       "      <td>0.572565</td>\n",
       "    </tr>\n",
       "  </tbody>\n",
       "</table>\n",
       "</div>"
      ],
      "text/plain": [
       "                   A         B         C         D\n",
       "2013-01-04 -2.797240 -0.781367 -0.051677  1.116477\n",
       "2013-01-05 -0.107137 -2.092128  0.180060  0.183549\n",
       "2013-01-06 -1.203128 -0.334911 -0.139938  0.572565"
      ]
     },
     "execution_count": 7,
     "metadata": {},
     "output_type": "execute_result"
    }
   ],
   "source": [
    "df.tail(3)"
   ]
  },
  {
   "cell_type": "code",
   "execution_count": 8,
   "metadata": {
    "collapsed": false
   },
   "outputs": [
    {
     "data": {
      "text/plain": [
       "DatetimeIndex(['2013-01-01', '2013-01-02', '2013-01-03', '2013-01-04',\n",
       "               '2013-01-05', '2013-01-06'],\n",
       "              dtype='datetime64[ns]', freq='D')"
      ]
     },
     "execution_count": 8,
     "metadata": {},
     "output_type": "execute_result"
    }
   ],
   "source": [
    "df.index"
   ]
  },
  {
   "cell_type": "code",
   "execution_count": 9,
   "metadata": {
    "collapsed": false
   },
   "outputs": [
    {
     "data": {
      "text/plain": [
       "Index(['A', 'B', 'C', 'D'], dtype='object')"
      ]
     },
     "execution_count": 9,
     "metadata": {},
     "output_type": "execute_result"
    }
   ],
   "source": [
    "df.columns"
   ]
  },
  {
   "cell_type": "code",
   "execution_count": 10,
   "metadata": {
    "collapsed": false
   },
   "outputs": [
    {
     "data": {
      "text/plain": [
       "array([[-0.39802043, -0.09090051, -0.95105679, -0.0910815 ],\n",
       "       [-0.27646348,  1.05025826, -0.67410944,  0.5878973 ],\n",
       "       [-0.95364259,  0.79141263, -1.34012608,  0.31980688],\n",
       "       [-2.79723965, -0.78136702, -0.05167735,  1.11647694],\n",
       "       [-0.10713657, -2.09212802,  0.18006001,  0.18354937],\n",
       "       [-1.20312847, -0.33491094, -0.1399381 ,  0.5725655 ]])"
      ]
     },
     "execution_count": 10,
     "metadata": {},
     "output_type": "execute_result"
    }
   ],
   "source": [
    "df.values"
   ]
  },
  {
   "cell_type": "code",
   "execution_count": 11,
   "metadata": {
    "collapsed": false
   },
   "outputs": [
    {
     "data": {
      "text/html": [
       "<div>\n",
       "<table border=\"1\" class=\"dataframe\">\n",
       "  <thead>\n",
       "    <tr style=\"text-align: right;\">\n",
       "      <th></th>\n",
       "      <th>2013-01-01 00:00:00</th>\n",
       "      <th>2013-01-02 00:00:00</th>\n",
       "      <th>2013-01-03 00:00:00</th>\n",
       "      <th>2013-01-04 00:00:00</th>\n",
       "      <th>2013-01-05 00:00:00</th>\n",
       "      <th>2013-01-06 00:00:00</th>\n",
       "    </tr>\n",
       "  </thead>\n",
       "  <tbody>\n",
       "    <tr>\n",
       "      <th>A</th>\n",
       "      <td>-0.398020</td>\n",
       "      <td>-0.276463</td>\n",
       "      <td>-0.953643</td>\n",
       "      <td>-2.797240</td>\n",
       "      <td>-0.107137</td>\n",
       "      <td>-1.203128</td>\n",
       "    </tr>\n",
       "    <tr>\n",
       "      <th>B</th>\n",
       "      <td>-0.090901</td>\n",
       "      <td>1.050258</td>\n",
       "      <td>0.791413</td>\n",
       "      <td>-0.781367</td>\n",
       "      <td>-2.092128</td>\n",
       "      <td>-0.334911</td>\n",
       "    </tr>\n",
       "    <tr>\n",
       "      <th>C</th>\n",
       "      <td>-0.951057</td>\n",
       "      <td>-0.674109</td>\n",
       "      <td>-1.340126</td>\n",
       "      <td>-0.051677</td>\n",
       "      <td>0.180060</td>\n",
       "      <td>-0.139938</td>\n",
       "    </tr>\n",
       "    <tr>\n",
       "      <th>D</th>\n",
       "      <td>-0.091082</td>\n",
       "      <td>0.587897</td>\n",
       "      <td>0.319807</td>\n",
       "      <td>1.116477</td>\n",
       "      <td>0.183549</td>\n",
       "      <td>0.572565</td>\n",
       "    </tr>\n",
       "  </tbody>\n",
       "</table>\n",
       "</div>"
      ],
      "text/plain": [
       "   2013-01-01  2013-01-02  2013-01-03  2013-01-04  2013-01-05  2013-01-06\n",
       "A   -0.398020   -0.276463   -0.953643   -2.797240   -0.107137   -1.203128\n",
       "B   -0.090901    1.050258    0.791413   -0.781367   -2.092128   -0.334911\n",
       "C   -0.951057   -0.674109   -1.340126   -0.051677    0.180060   -0.139938\n",
       "D   -0.091082    0.587897    0.319807    1.116477    0.183549    0.572565"
      ]
     },
     "execution_count": 11,
     "metadata": {},
     "output_type": "execute_result"
    }
   ],
   "source": [
    "# Transposing your data\n",
    "df.T"
   ]
  },
  {
   "cell_type": "code",
   "execution_count": 12,
   "metadata": {
    "collapsed": false
   },
   "outputs": [
    {
     "data": {
      "text/html": [
       "<div>\n",
       "<table border=\"1\" class=\"dataframe\">\n",
       "  <thead>\n",
       "    <tr style=\"text-align: right;\">\n",
       "      <th></th>\n",
       "      <th>D</th>\n",
       "      <th>C</th>\n",
       "      <th>B</th>\n",
       "      <th>A</th>\n",
       "    </tr>\n",
       "  </thead>\n",
       "  <tbody>\n",
       "    <tr>\n",
       "      <th>2013-01-01</th>\n",
       "      <td>-0.091082</td>\n",
       "      <td>-0.951057</td>\n",
       "      <td>-0.090901</td>\n",
       "      <td>-0.398020</td>\n",
       "    </tr>\n",
       "    <tr>\n",
       "      <th>2013-01-02</th>\n",
       "      <td>0.587897</td>\n",
       "      <td>-0.674109</td>\n",
       "      <td>1.050258</td>\n",
       "      <td>-0.276463</td>\n",
       "    </tr>\n",
       "    <tr>\n",
       "      <th>2013-01-03</th>\n",
       "      <td>0.319807</td>\n",
       "      <td>-1.340126</td>\n",
       "      <td>0.791413</td>\n",
       "      <td>-0.953643</td>\n",
       "    </tr>\n",
       "    <tr>\n",
       "      <th>2013-01-04</th>\n",
       "      <td>1.116477</td>\n",
       "      <td>-0.051677</td>\n",
       "      <td>-0.781367</td>\n",
       "      <td>-2.797240</td>\n",
       "    </tr>\n",
       "    <tr>\n",
       "      <th>2013-01-05</th>\n",
       "      <td>0.183549</td>\n",
       "      <td>0.180060</td>\n",
       "      <td>-2.092128</td>\n",
       "      <td>-0.107137</td>\n",
       "    </tr>\n",
       "    <tr>\n",
       "      <th>2013-01-06</th>\n",
       "      <td>0.572565</td>\n",
       "      <td>-0.139938</td>\n",
       "      <td>-0.334911</td>\n",
       "      <td>-1.203128</td>\n",
       "    </tr>\n",
       "  </tbody>\n",
       "</table>\n",
       "</div>"
      ],
      "text/plain": [
       "                   D         C         B         A\n",
       "2013-01-01 -0.091082 -0.951057 -0.090901 -0.398020\n",
       "2013-01-02  0.587897 -0.674109  1.050258 -0.276463\n",
       "2013-01-03  0.319807 -1.340126  0.791413 -0.953643\n",
       "2013-01-04  1.116477 -0.051677 -0.781367 -2.797240\n",
       "2013-01-05  0.183549  0.180060 -2.092128 -0.107137\n",
       "2013-01-06  0.572565 -0.139938 -0.334911 -1.203128"
      ]
     },
     "execution_count": 12,
     "metadata": {},
     "output_type": "execute_result"
    }
   ],
   "source": [
    "df.sort_index(axis=1, ascending = False)"
   ]
  },
  {
   "cell_type": "code",
   "execution_count": 13,
   "metadata": {
    "collapsed": false
   },
   "outputs": [
    {
     "data": {
      "text/html": [
       "<div>\n",
       "<table border=\"1\" class=\"dataframe\">\n",
       "  <thead>\n",
       "    <tr style=\"text-align: right;\">\n",
       "      <th></th>\n",
       "      <th>A</th>\n",
       "      <th>B</th>\n",
       "      <th>C</th>\n",
       "      <th>D</th>\n",
       "    </tr>\n",
       "  </thead>\n",
       "  <tbody>\n",
       "    <tr>\n",
       "      <th>count</th>\n",
       "      <td>6.000000</td>\n",
       "      <td>6.000000</td>\n",
       "      <td>6.000000</td>\n",
       "      <td>6.000000</td>\n",
       "    </tr>\n",
       "    <tr>\n",
       "      <th>mean</th>\n",
       "      <td>-0.955939</td>\n",
       "      <td>-0.242939</td>\n",
       "      <td>-0.496141</td>\n",
       "      <td>0.448202</td>\n",
       "    </tr>\n",
       "    <tr>\n",
       "      <th>std</th>\n",
       "      <td>0.994477</td>\n",
       "      <td>1.138703</td>\n",
       "      <td>0.588661</td>\n",
       "      <td>0.414470</td>\n",
       "    </tr>\n",
       "    <tr>\n",
       "      <th>min</th>\n",
       "      <td>-2.797240</td>\n",
       "      <td>-2.092128</td>\n",
       "      <td>-1.340126</td>\n",
       "      <td>-0.091082</td>\n",
       "    </tr>\n",
       "    <tr>\n",
       "      <th>25%</th>\n",
       "      <td>-1.140757</td>\n",
       "      <td>-0.669753</td>\n",
       "      <td>-0.881820</td>\n",
       "      <td>0.217614</td>\n",
       "    </tr>\n",
       "    <tr>\n",
       "      <th>50%</th>\n",
       "      <td>-0.675832</td>\n",
       "      <td>-0.212906</td>\n",
       "      <td>-0.407024</td>\n",
       "      <td>0.446186</td>\n",
       "    </tr>\n",
       "    <tr>\n",
       "      <th>75%</th>\n",
       "      <td>-0.306853</td>\n",
       "      <td>0.570834</td>\n",
       "      <td>-0.073743</td>\n",
       "      <td>0.584064</td>\n",
       "    </tr>\n",
       "    <tr>\n",
       "      <th>max</th>\n",
       "      <td>-0.107137</td>\n",
       "      <td>1.050258</td>\n",
       "      <td>0.180060</td>\n",
       "      <td>1.116477</td>\n",
       "    </tr>\n",
       "  </tbody>\n",
       "</table>\n",
       "</div>"
      ],
      "text/plain": [
       "              A         B         C         D\n",
       "count  6.000000  6.000000  6.000000  6.000000\n",
       "mean  -0.955939 -0.242939 -0.496141  0.448202\n",
       "std    0.994477  1.138703  0.588661  0.414470\n",
       "min   -2.797240 -2.092128 -1.340126 -0.091082\n",
       "25%   -1.140757 -0.669753 -0.881820  0.217614\n",
       "50%   -0.675832 -0.212906 -0.407024  0.446186\n",
       "75%   -0.306853  0.570834 -0.073743  0.584064\n",
       "max   -0.107137  1.050258  0.180060  1.116477"
      ]
     },
     "execution_count": 13,
     "metadata": {},
     "output_type": "execute_result"
    }
   ],
   "source": [
    "df.describe()"
   ]
  },
  {
   "cell_type": "code",
   "execution_count": 14,
   "metadata": {
    "collapsed": false
   },
   "outputs": [
    {
     "data": {
      "text/html": [
       "<div>\n",
       "<table border=\"1\" class=\"dataframe\">\n",
       "  <thead>\n",
       "    <tr style=\"text-align: right;\">\n",
       "      <th></th>\n",
       "      <th>A</th>\n",
       "      <th>B</th>\n",
       "      <th>C</th>\n",
       "      <th>D</th>\n",
       "    </tr>\n",
       "  </thead>\n",
       "  <tbody>\n",
       "    <tr>\n",
       "      <th>2013-01-05</th>\n",
       "      <td>-0.107137</td>\n",
       "      <td>-2.092128</td>\n",
       "      <td>0.180060</td>\n",
       "      <td>0.183549</td>\n",
       "    </tr>\n",
       "    <tr>\n",
       "      <th>2013-01-04</th>\n",
       "      <td>-2.797240</td>\n",
       "      <td>-0.781367</td>\n",
       "      <td>-0.051677</td>\n",
       "      <td>1.116477</td>\n",
       "    </tr>\n",
       "    <tr>\n",
       "      <th>2013-01-06</th>\n",
       "      <td>-1.203128</td>\n",
       "      <td>-0.334911</td>\n",
       "      <td>-0.139938</td>\n",
       "      <td>0.572565</td>\n",
       "    </tr>\n",
       "    <tr>\n",
       "      <th>2013-01-01</th>\n",
       "      <td>-0.398020</td>\n",
       "      <td>-0.090901</td>\n",
       "      <td>-0.951057</td>\n",
       "      <td>-0.091082</td>\n",
       "    </tr>\n",
       "    <tr>\n",
       "      <th>2013-01-03</th>\n",
       "      <td>-0.953643</td>\n",
       "      <td>0.791413</td>\n",
       "      <td>-1.340126</td>\n",
       "      <td>0.319807</td>\n",
       "    </tr>\n",
       "    <tr>\n",
       "      <th>2013-01-02</th>\n",
       "      <td>-0.276463</td>\n",
       "      <td>1.050258</td>\n",
       "      <td>-0.674109</td>\n",
       "      <td>0.587897</td>\n",
       "    </tr>\n",
       "  </tbody>\n",
       "</table>\n",
       "</div>"
      ],
      "text/plain": [
       "                   A         B         C         D\n",
       "2013-01-05 -0.107137 -2.092128  0.180060  0.183549\n",
       "2013-01-04 -2.797240 -0.781367 -0.051677  1.116477\n",
       "2013-01-06 -1.203128 -0.334911 -0.139938  0.572565\n",
       "2013-01-01 -0.398020 -0.090901 -0.951057 -0.091082\n",
       "2013-01-03 -0.953643  0.791413 -1.340126  0.319807\n",
       "2013-01-02 -0.276463  1.050258 -0.674109  0.587897"
      ]
     },
     "execution_count": 14,
     "metadata": {},
     "output_type": "execute_result"
    }
   ],
   "source": [
    "df.sort_values(by='B')"
   ]
  },
  {
   "cell_type": "code",
   "execution_count": 15,
   "metadata": {
    "collapsed": false
   },
   "outputs": [
    {
     "data": {
      "text/plain": [
       "2013-01-01   -0.398020\n",
       "2013-01-02   -0.276463\n",
       "2013-01-03   -0.953643\n",
       "2013-01-04   -2.797240\n",
       "2013-01-05   -0.107137\n",
       "2013-01-06   -1.203128\n",
       "Freq: D, Name: A, dtype: float64"
      ]
     },
     "execution_count": 15,
     "metadata": {},
     "output_type": "execute_result"
    }
   ],
   "source": [
    "df['A']"
   ]
  },
  {
   "cell_type": "code",
   "execution_count": 16,
   "metadata": {
    "collapsed": false
   },
   "outputs": [
    {
     "data": {
      "text/html": [
       "<div>\n",
       "<table border=\"1\" class=\"dataframe\">\n",
       "  <thead>\n",
       "    <tr style=\"text-align: right;\">\n",
       "      <th></th>\n",
       "      <th>A</th>\n",
       "      <th>B</th>\n",
       "      <th>C</th>\n",
       "      <th>D</th>\n",
       "    </tr>\n",
       "  </thead>\n",
       "  <tbody>\n",
       "    <tr>\n",
       "      <th>2013-01-01</th>\n",
       "      <td>-0.398020</td>\n",
       "      <td>-0.090901</td>\n",
       "      <td>-0.951057</td>\n",
       "      <td>-0.091082</td>\n",
       "    </tr>\n",
       "    <tr>\n",
       "      <th>2013-01-02</th>\n",
       "      <td>-0.276463</td>\n",
       "      <td>1.050258</td>\n",
       "      <td>-0.674109</td>\n",
       "      <td>0.587897</td>\n",
       "    </tr>\n",
       "    <tr>\n",
       "      <th>2013-01-03</th>\n",
       "      <td>-0.953643</td>\n",
       "      <td>0.791413</td>\n",
       "      <td>-1.340126</td>\n",
       "      <td>0.319807</td>\n",
       "    </tr>\n",
       "  </tbody>\n",
       "</table>\n",
       "</div>"
      ],
      "text/plain": [
       "                   A         B         C         D\n",
       "2013-01-01 -0.398020 -0.090901 -0.951057 -0.091082\n",
       "2013-01-02 -0.276463  1.050258 -0.674109  0.587897\n",
       "2013-01-03 -0.953643  0.791413 -1.340126  0.319807"
      ]
     },
     "execution_count": 16,
     "metadata": {},
     "output_type": "execute_result"
    }
   ],
   "source": [
    "df[0 : 3]"
   ]
  },
  {
   "cell_type": "code",
   "execution_count": 17,
   "metadata": {
    "collapsed": false
   },
   "outputs": [
    {
     "data": {
      "text/html": [
       "<div>\n",
       "<table border=\"1\" class=\"dataframe\">\n",
       "  <thead>\n",
       "    <tr style=\"text-align: right;\">\n",
       "      <th></th>\n",
       "      <th>A</th>\n",
       "      <th>B</th>\n",
       "      <th>C</th>\n",
       "      <th>D</th>\n",
       "    </tr>\n",
       "  </thead>\n",
       "  <tbody>\n",
       "    <tr>\n",
       "      <th>2013-01-02</th>\n",
       "      <td>-0.276463</td>\n",
       "      <td>1.050258</td>\n",
       "      <td>-0.674109</td>\n",
       "      <td>0.587897</td>\n",
       "    </tr>\n",
       "    <tr>\n",
       "      <th>2013-01-03</th>\n",
       "      <td>-0.953643</td>\n",
       "      <td>0.791413</td>\n",
       "      <td>-1.340126</td>\n",
       "      <td>0.319807</td>\n",
       "    </tr>\n",
       "    <tr>\n",
       "      <th>2013-01-04</th>\n",
       "      <td>-2.797240</td>\n",
       "      <td>-0.781367</td>\n",
       "      <td>-0.051677</td>\n",
       "      <td>1.116477</td>\n",
       "    </tr>\n",
       "  </tbody>\n",
       "</table>\n",
       "</div>"
      ],
      "text/plain": [
       "                   A         B         C         D\n",
       "2013-01-02 -0.276463  1.050258 -0.674109  0.587897\n",
       "2013-01-03 -0.953643  0.791413 -1.340126  0.319807\n",
       "2013-01-04 -2.797240 -0.781367 -0.051677  1.116477"
      ]
     },
     "execution_count": 17,
     "metadata": {},
     "output_type": "execute_result"
    }
   ],
   "source": [
    "df['20130102':'20130104']"
   ]
  },
  {
   "cell_type": "code",
   "execution_count": null,
   "metadata": {
    "collapsed": true
   },
   "outputs": [],
   "source": []
  }
 ],
 "metadata": {
  "kernelspec": {
   "display_name": "Python 3",
   "language": "python",
   "name": "python3"
  },
  "language_info": {
   "codemirror_mode": {
    "name": "ipython",
    "version": 3
   },
   "file_extension": ".py",
   "mimetype": "text/x-python",
   "name": "python",
   "nbconvert_exporter": "python",
   "pygments_lexer": "ipython3",
   "version": "3.6.0"
  }
 },
 "nbformat": 4,
 "nbformat_minor": 2
}
